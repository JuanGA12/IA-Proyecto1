{
  "nbformat": 4,
  "nbformat_minor": 0,
  "metadata": {
    "colab": {
      "provenance": [],
      "collapsed_sections": []
    },
    "kernelspec": {
      "name": "python3",
      "display_name": "Python 3"
    },
    "language_info": {
      "name": "python"
    }
  },
  "cells": [
    {
      "cell_type": "code",
      "execution_count": null,
      "metadata": {
        "id": "H3Cg8Y0pveXc"
      },
      "outputs": [],
      "source": [
        "import numpy as np\n",
        "import matplotlib.pyplot as plt\n",
        "import pandas as pd\n",
        "import math\n",
        "from sklearn import preprocessing\n",
        "from google.colab import drive\n",
        "from sklearn.model_selection import train_test_split\n",
        "from IPython.core.display import Latex\n",
        "import random\n",
        "from sklearn.preprocessing import PolynomialFeatures\n",
        "from sklearn import preprocessing\n",
        "from sklearn.linear_model import LinearRegression\n",
        "from sklearn.metrics import mean_squared_error, r2_score\n",
        "\n",
        "np.set_printoptions(formatter={'float': lambda x: \"{0:0.3f}\".format(x)})"
      ]
    },
    {
      "cell_type": "code",
      "source": [
        "dataset = pd.read_csv('forestfires.csv')\n",
        "\n",
        "x = (dataset[[\"X\", \"Y\",\"month\",\"day\",\"FFMC\",\"DMC\",\"DC\",\"ISI\",\"temp\",\"RH\",\"wind\",\"rain\"]]).to_numpy()\n",
        "y = (dataset[['area']]).to_numpy()"
      ],
      "metadata": {
        "id": "Hg1RNYQ0vo8A"
      },
      "execution_count": null,
      "outputs": []
    },
    {
      "cell_type": "code",
      "source": [
        "#Función h (hipótesis), recibe una matriz x y un array w, retorna la hipótesis para cada característica\n",
        "def h(x, w):\n",
        "  ans = np.dot(x, w)\n",
        "  return ans\n",
        "\n",
        "#Función Error, recibe una matriz x, un array y, la penalización y una función que indica el tipo de regularización. Finalmente retorna el error\n",
        "def Error(x, y, w, penal, fun=\"RID\"):\n",
        "  res = 0\n",
        "  y_pred = h(x,w)\n",
        "  rho = 0.4\n",
        "  num = np.shape(x)[0]\n",
        "  error = (y-y_pred)\n",
        "  if fun == \"RID\":\n",
        "    res = ( np.sum(error**2) + penal * np.sum(w**2)) / (2.0 * num)\n",
        "  elif fun == \"LAS\":\n",
        "    res = ( np.sum(error**2) + 100 * np.sum(np.abs(w))) / (2.0 * num)    \n",
        "  elif fun == \"ELA\":\n",
        "    res = ( np.sum(error**2)  + ((1.0 - rho) * 100 * np.sum(w**2)) + ((rho) * 100 * np.sum(np.abs(w))))  / (2.0 * num)\n",
        "  return res\n",
        "\n",
        "#Función derivada, recibe una matriz x, un array y, la penalización y una función que indica el tipo de regularización. Finalmente retorna la derivada\n",
        "def derivada(x, y, w, penal, fun=\"RID\"):\n",
        "  rho = 0.4\n",
        "  m = np.shape(x)[0]\n",
        "  error = (y - h(x,w))\n",
        "  if fun == \"RID\":\n",
        "    dw = (-np.dot(x.T,error) + (2 * 100 *w))  / (2*m) \n",
        "  elif fun == \"LAS\":\n",
        "    dw = (-np.dot(x.T,error) + (2 * 100))  / (2*m)\n",
        "  elif fun == \"ELA\":\n",
        "    dw = (-np.dot(x.T,error) + ((1.0 - rho) * 2 * 100 *w) + ((rho) * 2 * 10))  / (2*m)\n",
        "  return dw\n",
        "\n",
        "#Función update, recibe una matriz x, un array y, la penalización y un hiperparámetro alfa. Finalmente retorna w actualizado.\n",
        "def update(x, y, w, penal, alfa):\n",
        "    dw = derivada(x,y,w, penal)\n",
        "    w = w - alfa * dw\n",
        "    return w"
      ],
      "metadata": {
        "id": "w3dJP7Gtvpp0"
      },
      "execution_count": null,
      "outputs": []
    },
    {
      "cell_type": "code",
      "source": [
        "#Función split, splitea la data \n",
        "def split(x_q,y_q, q = 0.7):\n",
        "  X_train, X_rest, y_train, y_rest = train_test_split(x_q, y_q , test_size=1-q, random_state=0)\n",
        "  X_val, X_test, y_val, y_test = train_test_split(X_rest, y_rest , test_size=0.5, random_state=0)\n",
        "  return X_train, y_train, X_test, y_test, X_val, y_val\n",
        "\n",
        "#Función norm, normaliza la data\n",
        "def norm(x,y,x_val,y_val,x_test, y_test):\n",
        "  scaler_class_x = preprocessing.MinMaxScaler()\n",
        "  scaler_class_y = preprocessing.MinMaxScaler()\n",
        "  x_norm = scaler_class_x.fit_transform(x)\n",
        "  y_norm = scaler_class_y.fit_transform(y)\n",
        "  x_val_norm = scaler_class_x.transform(x_val)\n",
        "  y_val_norm = scaler_class_y.transform(y_val)\n",
        "  x_test_norm = scaler_class_x.transform(x_test)\n",
        "  y_test_norm = scaler_class_y.transform(y_test)\n",
        "  return x_norm , y_norm, x_val_norm, y_val_norm, x_test_norm, y_test_norm\n",
        "\n",
        "#Función get_data\n",
        "def get_data(X,Y,batch):\n",
        "  N = Y.shape[0]\n",
        "  val_lis = []\n",
        "  x_batch_list=np.array([])\n",
        "  y_batch_list=np.array([])\n",
        "  random_list = random.sample(range(N), batch)\n",
        "  x_batch_list = np.reshape(x_batch_list, (np.shape(x_batch_list)[0], np.shape(X)[1]))\n",
        "  y_batch_list = np.reshape(y_batch_list, (np.shape(y_batch_list)[0], 1))\n",
        "  for i in range(batch):\n",
        "    x_batch_list = np.r_[x_batch_list, [X[random_list[i],:]]]\n",
        "    y_batch_list = np.r_[y_batch_list, [Y[random_list[i],:]]] \n",
        "  return x_batch_list, y_batch_list\n",
        "\n",
        "#Función transfor_to_polinomic, transforma las características con número de polinomio dado\n",
        "def transfor_to_polinomic(x, n_pol):\n",
        "  x_trans = np.empty(x.shape[0])\n",
        "  for i in range(x.shape[1]):\n",
        "    for j in range(n_pol):\n",
        "      x_trans = np.c_[x_trans, (x[:, i] ** (j+1))]\n",
        "  return x_trans[:,1:]\n",
        "    \n"
      ],
      "metadata": {
        "id": "68RlUR-Xx27j"
      },
      "execution_count": null,
      "outputs": []
    },
    {
      "cell_type": "code",
      "source": [
        "#Función train, entrena el modelo dado.\n",
        "def train(x_train, y_train, x_val, y_val, n_epochs, alfa, penal, type_fun):\n",
        "  np.random.seed(2001)\n",
        "  m  = np.shape(x_train)[1:]\n",
        "  \n",
        "  w = np.random.randn(*m,1,)\n",
        "  loss = []\n",
        "  loss_val = []\n",
        "  x_to = x_train\n",
        "  y_to = y_train\n",
        "  for i in range(n_epochs):\n",
        "    x_train, y_train= (x_to, y_to)\n",
        "    dw = derivada(x_train, y_train, w, penal=penal)\n",
        "    w = update(x_train, y_train, w, penal, alfa)\n",
        "    L = Error(x_train, y_train, w, penal, fun=type_fun)\n",
        "    L_val = Error(x_val, y_val, w, penal, fun=type_fun)\n",
        "    loss.append(L)\n",
        "    loss_val.append(L_val)\n",
        "  return w, loss, loss_val\n",
        "\n",
        "\n",
        "def Plot_Loss(epochs,loss):\n",
        "   plt.plot(epochs, loss)\n"
      ],
      "metadata": {
        "id": "1t0WDAQvvpgz"
      },
      "execution_count": null,
      "outputs": []
    },
    {
      "cell_type": "code",
      "source": [
        "grade_pol = 1\n",
        "penal = 1\n",
        "x_trans = transfor_to_polinomic(x,grade_pol)\n",
        "x_aug = np.c_[np.ones(x.shape[0]), x_trans]\n",
        "x_train, y_train, x_test, y_test, x_val, y_val = split(x_aug,y)\n",
        "x_norm, y_norm, x_val_norm, y_val_norm, x_test_norm, y_test_norm  = norm(x_train,y_train, x_val, y_val, x_test, y_test)"
      ],
      "metadata": {
        "id": "TgDH_D5AvpVl"
      },
      "execution_count": null,
      "outputs": []
    },
    {
      "cell_type": "code",
      "source": [
        "# plotting of loss by iterations\n",
        "\n",
        "\n",
        "learning = [ 0.1, 0.01, 0.001]\n",
        "all_loss = []\n",
        "all_val_loss = []\n",
        "all_ssr = []\n",
        "all_r_2 = []\n",
        "for alfa in learning:\n",
        "  w, loss, loss_val = train(x_norm, y_norm, x_val_norm, y_val_norm, 1500, alfa, penal,\"ELA\")\n",
        "  epochs = [i + 1 for i in range(len(loss))]\n",
        "  plt.title(\"NO LINEAR WITH ELASTINET - PENALITY:\"+str(penal)+\" GRADE:\"+str(grade_pol))\n",
        "  plt.plot(epochs,loss,loss_val)\n",
        "  all_loss.append(\"Loss Train \" + str(alfa))\n",
        "  all_loss.append(\"Loss Validation \"+str(alfa))\n",
        "  SSR = ((y_test-h(x_test,w))**2).sum()\n",
        "  SST = ((y_test-y_test.mean())**2).sum()\n",
        "  all_r_2.append(1-(SSR/SST))\n",
        "  all_ssr.append(mean_squared_error(y_test_norm, h(x_test_norm,w)))\n",
        "plt.legend(all_loss)\n",
        "plt.xlabel(\"Epochs\")\n",
        "plt.ylabel(\"Error\")\n",
        "\n",
        "for i in range(len(all_ssr)):\n",
        "  print(\"RMSE of\", str(learning[i]) ,\":\",all_ssr[i])\n",
        "  print(\"R2 of\", str(learning[i]) ,\":\",all_r_2[i])\n",
        "  "
      ],
      "metadata": {
        "colab": {
          "base_uri": "https://localhost:8080/",
          "height": 399
        },
        "id": "ZXykvFRGyM38",
        "outputId": "d0e0f8f7-fe4a-41df-c867-25509605f461"
      },
      "execution_count": null,
      "outputs": [
        {
          "output_type": "stream",
          "name": "stdout",
          "text": [
            "RMSE of 0.1 : 0.00043374986300577425\n",
            "R2 of 0.1 : -0.10735837640784607\n",
            "RMSE of 0.01 : 0.0005005309563858815\n",
            "R2 of 0.01 : -0.033730169863603\n",
            "RMSE of 0.001 : 0.24064958323546598\n",
            "R2 of 0.001 : -16.247656562320536\n"
          ]
        },
        {
          "output_type": "display_data",
          "data": {
            "text/plain": [
              "<Figure size 432x288 with 1 Axes>"
            ],
            "image/png": "[encoded data removed]"
          },
          "metadata": {
            "needs_background": "light"
          }
        }
      ]
    },
    {
      "cell_type": "code",
      "source": [
        "print(w)"
      ],
      "metadata": {
        "id": "tzL8yDRjSJy7"
      },
      "execution_count": null,
      "outputs": []
    },
    {
      "cell_type": "code",
      "source": [
        "learning = [0.1, 0.01, 0.001]\n",
        "all_loss = []\n",
        "all_val_loss = []\n",
        "all_r_2 = []\n",
        "all_ssr = []\n",
        "\n",
        "plt.clf()\n",
        "for alfa in learning:\n",
        "  w, loss, loss_val = train(x_norm, y_norm, x_val_norm, y_val_norm, 1500, alfa, penal,\"RID\")\n",
        "  epochs = [i + 1 for i in range(len(loss))]\n",
        "  plt.title(\"NO LINEAR WITH RIDGE - PENALITY:\"+str(penal)+\" GRADE:\"+str(grade_pol))\n",
        "  plt.plot(epochs,loss,loss_val)\n",
        "  all_loss.append(\"Loss Train \" + str(alfa))\n",
        "  all_loss.append(\"Loss Validation \"+str(alfa))\n",
        "  SSR = ((y_test-h(x_test,w))**2).sum()\n",
        "  SST = ((y_test-y_test.mean())**2).sum()\n",
        "  all_r_2.append(1-(SSR/SST))\n",
        "  all_ssr.append(SSR)\n",
        "plt.legend(all_loss)\n",
        "plt.xlabel(\"Epochs\")\n",
        "plt.ylabel(\"Error\")\n",
        "for i in range(len(all_ssr)):\n",
        "  print(\"RMSE of\", str(learning[i]) ,\":\",all_ssr[i])\n",
        "  print(\"R2 of\", str(learning[i]) ,\":\",all_r_2[i])"
      ],
      "metadata": {
        "id": "x_ZEMCVf-9B6"
      },
      "execution_count": null,
      "outputs": []
    },
    {
      "cell_type": "code",
      "source": [],
      "metadata": {
        "id": "Cigi3OwG-8vN"
      },
      "execution_count": null,
      "outputs": []
    },
    {
      "cell_type": "code",
      "source": [
        "learning = [0.1, 0.01, 0.001]\n",
        "all_loss = []\n",
        "all_val_loss = []\n",
        "all_r_2 = []\n",
        "all_ssr = []\n",
        "plt.clf()\n",
        "for alfa in learning:\n",
        "  w, loss, loss_val = train(x_norm, y_norm, x_val_norm, y_val_norm, 150, alfa, penal,\"LAS\")\n",
        "  epochs = [i + 1 for i in range(len(loss))]\n",
        "  plt.title(\"NO LINEAR WITH LASSO - PENALITY:\"+str(penal)+\" GRADE:\"+str(grade_pol))\n",
        "  plt.plot(epochs,loss,loss_val)\n",
        "  all_loss.append(\"Loss Train \" + str(alfa))\n",
        "  all_loss.append(\"Loss Validation \"+str(alfa))\n",
        "  SSR = ((y_test-h(x_test,w))**2).sum()\n",
        "  SST = ((y_test-y_test.mean())**2).sum()\n",
        "  all_r_2.append(1-(SSR/SST))\n",
        "  all_ssr.append(SSR)\n",
        "plt.legend(all_loss)\n",
        "plt.xlabel(\"Epochs\")\n",
        "plt.ylabel(\"Error\")"
      ],
      "metadata": {
        "id": "7WXAgcM1-8ne"
      },
      "execution_count": null,
      "outputs": []
    },
    {
      "cell_type": "code",
      "source": [
        "for i in range(len(all_ssr)):\n",
        "  print(\"RMSE of\", str(learning[i]) ,\":\",all_ssr[i]/y_test.shape[0])\n",
        "  print(\"R2 of\", str(learning[i]) ,\":\",all_r_2[i])"
      ],
      "metadata": {
        "id": "gyZTs3RM-8eQ"
      },
      "execution_count": null,
      "outputs": []
    },
    {
      "cell_type": "code",
      "source": [
        "#Extracted from:\n",
        "#https://www.pythonfixing.com/2022/03/fixed-multivariate-polynomial.html\n",
        "#for comparison purposes\n",
        "poly = PolynomialFeatures(degree=1)\n",
        "poly_variables = poly.fit_transform(x)\n",
        "poly.fit(poly_variables,y)\n",
        "poly.fit(poly_variables,x_test)\n",
        "\n",
        "poly_var_train, poly_var_test, res_train, res_test = train_test_split(poly_variables, y, test_size = 0.3, random_state = 4)\n",
        "\n",
        "regression = LinearRegression()\n",
        "\n",
        "model = regression.fit(poly_var_train, res_train)\n",
        "score = model.score(poly_var_test, res_test)\n",
        "y_pred = model.predict(x_test)\n",
        "print(model.coef_)\n",
        "print(\"The RMSE:\",mean_squared_error(y_test, y_pred))\n",
        "print(\"The R²:\",r2_score(y_test, y_pred))\n"
      ],
      "metadata": {
        "id": "E1SLxoUtWmXC"
      },
      "execution_count": null,
      "outputs": []
    }
  ]
}