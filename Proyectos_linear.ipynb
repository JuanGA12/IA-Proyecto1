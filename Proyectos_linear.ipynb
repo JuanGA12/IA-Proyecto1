{
  "nbformat": 4,
  "nbformat_minor": 0,
  "metadata": {
    "colab": {
      "provenance": [],
      "collapsed_sections": []
    },
    "kernelspec": {
      "name": "python3",
      "display_name": "Python 3"
    },
    "language_info": {
      "name": "python"
    }
  },
  "cells": [
    {
      "cell_type": "code",
      "execution_count": null,
      "metadata": {
        "id": "H3Cg8Y0pveXc"
      },
      "outputs": [],
      "source": [
        "import numpy as np\n",
        "import matplotlib.pyplot as plt\n",
        "import pandas as pd\n",
        "import math\n",
        "from sklearn import preprocessing\n",
        "from google.colab import drive\n",
        "from sklearn.model_selection import train_test_split\n",
        "from IPython.core.display import Latex\n",
        "import random\n",
        "from sklearn.linear_model import LinearRegression\n",
        "from time import sleep\n",
        "from tqdm import tqdm\n",
        "from sklearn.metrics import mean_squared_error, r2_score\n",
        "\n",
        "np.set_printoptions(formatter={'float': lambda x: \"{0:0.3f}\".format(x)})"
      ]
    },
    {
      "cell_type": "markdown",
      "source": [
        "##Statistical Analysis"
      ],
      "metadata": {
        "id": "InwcsRdMryu2"
      }
    },
    {
      "cell_type": "code",
      "source": [
        "df = pd.read_csv('forestfires.csv')\n"
      ],
      "metadata": {
        "id": "Wr3SiLAUrxw1"
      },
      "execution_count": null,
      "outputs": []
    },
    {
      "cell_type": "code",
      "source": [
        "df.corr()"
      ],
      "metadata": {
        "colab": {
          "base_uri": "https://localhost:8080/",
          "height": 457
        },
        "id": "quhFxJuOsMFe",
        "outputId": "84a33b98-1a03-45a7-e595-310ebfac5140"
      },
      "execution_count": null,
      "outputs": [
        {
          "output_type": "execute_result",
          "data": {
            "text/plain": [
              "              X         Y     month       day      FFMC       DMC        DC  \\\n",
              "X      1.000000  0.539548 -0.065003 -0.024922 -0.021039 -0.048384 -0.085916   \n",
              "Y      0.539548  1.000000 -0.066292 -0.005453 -0.046308  0.007782 -0.101178   \n",
              "month -0.065003 -0.066292  1.000000 -0.050837  0.291477  0.466645  0.868698   \n",
              "day   -0.024922 -0.005453 -0.050837  1.000000 -0.041068  0.062870  0.000105   \n",
              "FFMC  -0.021039 -0.046308  0.291477 -0.041068  1.000000  0.382619  0.330512   \n",
              "DMC   -0.048384  0.007782  0.466645  0.062870  0.382619  1.000000  0.682192   \n",
              "DC    -0.085916 -0.101178  0.868698  0.000105  0.330512  0.682192  1.000000   \n",
              "ISI    0.006210 -0.024488  0.186597  0.032909  0.531805  0.305128  0.229154   \n",
              "temp  -0.051258 -0.024103  0.368842  0.052190  0.431532  0.469594  0.496208   \n",
              "RH     0.085223  0.062221 -0.095280  0.092151 -0.300995  0.073795 -0.039192   \n",
              "wind   0.018798 -0.020341 -0.086368  0.032478 -0.028485 -0.105342 -0.203466   \n",
              "rain   0.065387  0.033234  0.013438 -0.048340  0.056702  0.074790  0.035861   \n",
              "area   0.063385  0.044873  0.056496  0.023226  0.040122  0.072994  0.049383   \n",
              "\n",
              "            ISI      temp        RH      wind      rain      area  \n",
              "X      0.006210 -0.051258  0.085223  0.018798  0.065387  0.063385  \n",
              "Y     -0.024488 -0.024103  0.062221 -0.020341  0.033234  0.044873  \n",
              "month  0.186597  0.368842 -0.095280 -0.086368  0.013438  0.056496  \n",
              "day    0.032909  0.052190  0.092151  0.032478 -0.048340  0.023226  \n",
              "FFMC   0.531805  0.431532 -0.300995 -0.028485  0.056702  0.040122  \n",
              "DMC    0.305128  0.469594  0.073795 -0.105342  0.074790  0.072994  \n",
              "DC     0.229154  0.496208 -0.039192 -0.203466  0.035861  0.049383  \n",
              "ISI    1.000000  0.394287 -0.132517  0.106826  0.067668  0.008258  \n",
              "temp   0.394287  1.000000 -0.527390 -0.227116  0.069491  0.097844  \n",
              "RH    -0.132517 -0.527390  1.000000  0.069410  0.099751 -0.075519  \n",
              "wind   0.106826 -0.227116  0.069410  1.000000  0.061119  0.012317  \n",
              "rain   0.067668  0.069491  0.099751  0.061119  1.000000 -0.007366  \n",
              "area   0.008258  0.097844 -0.075519  0.012317 -0.007366  1.000000  "
            ],
            "text/html": [
              "\n",
              "  <div id=\"df-3042c548-4e20-4eef-88b6-fe531e8a9294\">\n",
              "    <div class=\"colab-df-container\">\n",
              "      <div>\n",
              "<style scoped>\n",
              "    .dataframe tbody tr th:only-of-type {\n",
              "        vertical-align: middle;\n",
              "    }\n",
              "\n",
              "    .dataframe tbody tr th {\n",
              "        vertical-align: top;\n",
              "    }\n",
              "\n",
              "    .dataframe thead th {\n",
              "        text-align: right;\n",
              "    }\n",
              "</style>\n",
              "<table border=\"1\" class=\"dataframe\">\n",
              "  <thead>\n",
              "    <tr style=\"text-align: right;\">\n",
              "      <th></th>\n",
              "      <th>X</th>\n",
              "      <th>Y</th>\n",
              "      <th>month</th>\n",
              "      <th>day</th>\n",
              "      <th>FFMC</th>\n",
              "      <th>DMC</th>\n",
              "      <th>DC</th>\n",
              "      <th>ISI</th>\n",
              "      <th>temp</th>\n",
              "      <th>RH</th>\n",
              "      <th>wind</th>\n",
              "      <th>rain</th>\n",
              "      <th>area</th>\n",
              "    </tr>\n",
              "  </thead>\n",
              "  <tbody>\n",
              "    <tr>\n",
              "      <th>X</th>\n",
              "      <td>1.000000</td>\n",
              "      <td>0.539548</td>\n",
              "      <td>-0.065003</td>\n",
              "      <td>-0.024922</td>\n",
              "      <td>-0.021039</td>\n",
              "      <td>-0.048384</td>\n",
              "      <td>-0.085916</td>\n",
              "      <td>0.006210</td>\n",
              "      <td>-0.051258</td>\n",
              "      <td>0.085223</td>\n",
              "      <td>0.018798</td>\n",
              "      <td>0.065387</td>\n",
              "      <td>0.063385</td>\n",
              "    </tr>\n",
              "    <tr>\n",
              "      <th>Y</th>\n",
              "      <td>0.539548</td>\n",
              "      <td>1.000000</td>\n",
              "      <td>-0.066292</td>\n",
              "      <td>-0.005453</td>\n",
              "      <td>-0.046308</td>\n",
              "      <td>0.007782</td>\n",
              "      <td>-0.101178</td>\n",
              "      <td>-0.024488</td>\n",
              "      <td>-0.024103</td>\n",
              "      <td>0.062221</td>\n",
              "      <td>-0.020341</td>\n",
              "      <td>0.033234</td>\n",
              "      <td>0.044873</td>\n",
              "    </tr>\n",
              "    <tr>\n",
              "      <th>month</th>\n",
              "      <td>-0.065003</td>\n",
              "      <td>-0.066292</td>\n",
              "      <td>1.000000</td>\n",
              "      <td>-0.050837</td>\n",
              "      <td>0.291477</td>\n",
              "      <td>0.466645</td>\n",
              "      <td>0.868698</td>\n",
              "      <td>0.186597</td>\n",
              "      <td>0.368842</td>\n",
              "      <td>-0.095280</td>\n",
              "      <td>-0.086368</td>\n",
              "      <td>0.013438</td>\n",
              "      <td>0.056496</td>\n",
              "    </tr>\n",
              "    <tr>\n",
              "      <th>day</th>\n",
              "      <td>-0.024922</td>\n",
              "      <td>-0.005453</td>\n",
              "      <td>-0.050837</td>\n",
              "      <td>1.000000</td>\n",
              "      <td>-0.041068</td>\n",
              "      <td>0.062870</td>\n",
              "      <td>0.000105</td>\n",
              "      <td>0.032909</td>\n",
              "      <td>0.052190</td>\n",
              "      <td>0.092151</td>\n",
              "      <td>0.032478</td>\n",
              "      <td>-0.048340</td>\n",
              "      <td>0.023226</td>\n",
              "    </tr>\n",
              "    <tr>\n",
              "      <th>FFMC</th>\n",
              "      <td>-0.021039</td>\n",
              "      <td>-0.046308</td>\n",
              "      <td>0.291477</td>\n",
              "      <td>-0.041068</td>\n",
              "      <td>1.000000</td>\n",
              "      <td>0.382619</td>\n",
              "      <td>0.330512</td>\n",
              "      <td>0.531805</td>\n",
              "      <td>0.431532</td>\n",
              "      <td>-0.300995</td>\n",
              "      <td>-0.028485</td>\n",
              "      <td>0.056702</td>\n",
              "      <td>0.040122</td>\n",
              "    </tr>\n",
              "    <tr>\n",
              "      <th>DMC</th>\n",
              "      <td>-0.048384</td>\n",
              "      <td>0.007782</td>\n",
              "      <td>0.466645</td>\n",
              "      <td>0.062870</td>\n",
              "      <td>0.382619</td>\n",
              "      <td>1.000000</td>\n",
              "      <td>0.682192</td>\n",
              "      <td>0.305128</td>\n",
              "      <td>0.469594</td>\n",
              "      <td>0.073795</td>\n",
              "      <td>-0.105342</td>\n",
              "      <td>0.074790</td>\n",
              "      <td>0.072994</td>\n",
              "    </tr>\n",
              "    <tr>\n",
              "      <th>DC</th>\n",
              "      <td>-0.085916</td>\n",
              "      <td>-0.101178</td>\n",
              "      <td>0.868698</td>\n",
              "      <td>0.000105</td>\n",
              "      <td>0.330512</td>\n",
              "      <td>0.682192</td>\n",
              "      <td>1.000000</td>\n",
              "      <td>0.229154</td>\n",
              "      <td>0.496208</td>\n",
              "      <td>-0.039192</td>\n",
              "      <td>-0.203466</td>\n",
              "      <td>0.035861</td>\n",
              "      <td>0.049383</td>\n",
              "    </tr>\n",
              "    <tr>\n",
              "      <th>ISI</th>\n",
              "      <td>0.006210</td>\n",
              "      <td>-0.024488</td>\n",
              "      <td>0.186597</td>\n",
              "      <td>0.032909</td>\n",
              "      <td>0.531805</td>\n",
              "      <td>0.305128</td>\n",
              "      <td>0.229154</td>\n",
              "      <td>1.000000</td>\n",
              "      <td>0.394287</td>\n",
              "      <td>-0.132517</td>\n",
              "      <td>0.106826</td>\n",
              "      <td>0.067668</td>\n",
              "      <td>0.008258</td>\n",
              "    </tr>\n",
              "    <tr>\n",
              "      <th>temp</th>\n",
              "      <td>-0.051258</td>\n",
              "      <td>-0.024103</td>\n",
              "      <td>0.368842</td>\n",
              "      <td>0.052190</td>\n",
              "      <td>0.431532</td>\n",
              "      <td>0.469594</td>\n",
              "      <td>0.496208</td>\n",
              "      <td>0.394287</td>\n",
              "      <td>1.000000</td>\n",
              "      <td>-0.527390</td>\n",
              "      <td>-0.227116</td>\n",
              "      <td>0.069491</td>\n",
              "      <td>0.097844</td>\n",
              "    </tr>\n",
              "    <tr>\n",
              "      <th>RH</th>\n",
              "      <td>0.085223</td>\n",
              "      <td>0.062221</td>\n",
              "      <td>-0.095280</td>\n",
              "      <td>0.092151</td>\n",
              "      <td>-0.300995</td>\n",
              "      <td>0.073795</td>\n",
              "      <td>-0.039192</td>\n",
              "      <td>-0.132517</td>\n",
              "      <td>-0.527390</td>\n",
              "      <td>1.000000</td>\n",
              "      <td>0.069410</td>\n",
              "      <td>0.099751</td>\n",
              "      <td>-0.075519</td>\n",
              "    </tr>\n",
              "    <tr>\n",
              "      <th>wind</th>\n",
              "      <td>0.018798</td>\n",
              "      <td>-0.020341</td>\n",
              "      <td>-0.086368</td>\n",
              "      <td>0.032478</td>\n",
              "      <td>-0.028485</td>\n",
              "      <td>-0.105342</td>\n",
              "      <td>-0.203466</td>\n",
              "      <td>0.106826</td>\n",
              "      <td>-0.227116</td>\n",
              "      <td>0.069410</td>\n",
              "      <td>1.000000</td>\n",
              "      <td>0.061119</td>\n",
              "      <td>0.012317</td>\n",
              "    </tr>\n",
              "    <tr>\n",
              "      <th>rain</th>\n",
              "      <td>0.065387</td>\n",
              "      <td>0.033234</td>\n",
              "      <td>0.013438</td>\n",
              "      <td>-0.048340</td>\n",
              "      <td>0.056702</td>\n",
              "      <td>0.074790</td>\n",
              "      <td>0.035861</td>\n",
              "      <td>0.067668</td>\n",
              "      <td>0.069491</td>\n",
              "      <td>0.099751</td>\n",
              "      <td>0.061119</td>\n",
              "      <td>1.000000</td>\n",
              "      <td>-0.007366</td>\n",
              "    </tr>\n",
              "    <tr>\n",
              "      <th>area</th>\n",
              "      <td>0.063385</td>\n",
              "      <td>0.044873</td>\n",
              "      <td>0.056496</td>\n",
              "      <td>0.023226</td>\n",
              "      <td>0.040122</td>\n",
              "      <td>0.072994</td>\n",
              "      <td>0.049383</td>\n",
              "      <td>0.008258</td>\n",
              "      <td>0.097844</td>\n",
              "      <td>-0.075519</td>\n",
              "      <td>0.012317</td>\n",
              "      <td>-0.007366</td>\n",
              "      <td>1.000000</td>\n",
              "    </tr>\n",
              "  </tbody>\n",
              "</table>\n",
              "</div>\n",
              "      <button class=\"colab-df-convert\" onclick=\"convertToInteractive('df-3042c548-4e20-4eef-88b6-fe531e8a9294')\"\n",
              "              title=\"Convert this dataframe to an interactive table.\"\n",
              "              style=\"display:none;\">\n",
              "        \n",
              "  <svg xmlns=\"http://www.w3.org/2000/svg\" height=\"24px\"viewBox=\"0 0 24 24\"\n",
              "       width=\"24px\">\n",
              "    <path d=\"M0 0h24v24H0V0z\" fill=\"none\"/>\n",
              "    <path d=\"M18.56 5.44l.94 2.06.94-2.06 2.06-.94-2.06-.94-.94-2.06-.94 2.06-2.06.94zm-11 1L8.5 8.5l.94-2.06 2.06-.94-2.06-.94L8.5 2.5l-.94 2.06-2.06.94zm10 10l.94 2.06.94-2.06 2.06-.94-2.06-.94-.94-2.06-.94 2.06-2.06.94z\"/><path d=\"M17.41 7.96l-1.37-1.37c-.4-.4-.92-.59-1.43-.59-.52 0-1.04.2-1.43.59L10.3 9.45l-7.72 7.72c-.78.78-.78 2.05 0 2.83L4 21.41c.39.39.9.59 1.41.59.51 0 1.02-.2 1.41-.59l7.78-7.78 2.81-2.81c.8-.78.8-2.07 0-2.86zM5.41 20L4 18.59l7.72-7.72 1.47 1.35L5.41 20z\"/>\n",
              "  </svg>\n",
              "      </button>\n",
              "      \n",
              "  <style>\n",
              "    .colab-df-container {\n",
              "      display:flex;\n",
              "      flex-wrap:wrap;\n",
              "      gap: 12px;\n",
              "    }\n",
              "\n",
              "    .colab-df-convert {\n",
              "      background-color: #E8F0FE;\n",
              "      border: none;\n",
              "      border-radius: 50%;\n",
              "      cursor: pointer;\n",
              "      display: none;\n",
              "      fill: #1967D2;\n",
              "      height: 32px;\n",
              "      padding: 0 0 0 0;\n",
              "      width: 32px;\n",
              "    }\n",
              "\n",
              "    .colab-df-convert:hover {\n",
              "      background-color: #E2EBFA;\n",
              "      box-shadow: 0px 1px 2px rgba(60, 64, 67, 0.3), 0px 1px 3px 1px rgba(60, 64, 67, 0.15);\n",
              "      fill: #174EA6;\n",
              "    }\n",
              "\n",
              "    [theme=dark] .colab-df-convert {\n",
              "      background-color: #3B4455;\n",
              "      fill: #D2E3FC;\n",
              "    }\n",
              "\n",
              "    [theme=dark] .colab-df-convert:hover {\n",
              "      background-color: #434B5C;\n",
              "      box-shadow: 0px 1px 3px 1px rgba(0, 0, 0, 0.15);\n",
              "      filter: drop-shadow(0px 1px 2px rgba(0, 0, 0, 0.3));\n",
              "      fill: #FFFFFF;\n",
              "    }\n",
              "  </style>\n",
              "\n",
              "      <script>\n",
              "        const buttonEl =\n",
              "          document.querySelector('#df-3042c548-4e20-4eef-88b6-fe531e8a9294 button.colab-df-convert');\n",
              "        buttonEl.style.display =\n",
              "          google.colab.kernel.accessAllowed ? 'block' : 'none';\n",
              "\n",
              "        async function convertToInteractive(key) {\n",
              "          const element = document.querySelector('#df-3042c548-4e20-4eef-88b6-fe531e8a9294');\n",
              "          const dataTable =\n",
              "            await google.colab.kernel.invokeFunction('convertToInteractive',\n",
              "                                                     [key], {});\n",
              "          if (!dataTable) return;\n",
              "\n",
              "          const docLinkHtml = 'Like what you see? Visit the ' +\n",
              "            '<a target=\"_blank\" href=https://colab.research.google.com/notebooks/data_table.ipynb>data table notebook</a>'\n",
              "            + ' to learn more about interactive tables.';\n",
              "          element.innerHTML = '';\n",
              "          dataTable['output_type'] = 'display_data';\n",
              "          await google.colab.output.renderOutput(dataTable, element);\n",
              "          const docLink = document.createElement('div');\n",
              "          docLink.innerHTML = docLinkHtml;\n",
              "          element.appendChild(docLink);\n",
              "        }\n",
              "      </script>\n",
              "    </div>\n",
              "  </div>\n",
              "  "
            ]
          },
          "metadata": {},
          "execution_count": 4
        }
      ]
    },
    {
      "cell_type": "markdown",
      "source": [
        "Using this we can discard some of the variables due to their low correlation with the area."
      ],
      "metadata": {
        "id": "f_ygMupmsUPA"
      }
    },
    {
      "cell_type": "code",
      "source": [
        "dataset = pd.read_csv('forestfires.csv')\n",
        "\n",
        "x = (dataset[[\"X\", \"Y\",\"month\",\"day\",\"FFMC\",\"DMC\",\"DC\",\"ISI\",\"temp\",\"RH\",\"wind\",\"rain\"]]).to_numpy()\n",
        "y = (dataset[['area']]).to_numpy()"
      ],
      "metadata": {
        "id": "Hg1RNYQ0vo8A"
      },
      "execution_count": null,
      "outputs": []
    },
    {
      "cell_type": "markdown",
      "source": [
        "##Linear Regression functions"
      ],
      "metadata": {
        "id": "Ss6L2rFjr2GW"
      }
    },
    {
      "cell_type": "code",
      "source": [
        "#Función h (hipótesis), recibe una matriz x y un array w, retorna la hipótesis para cada característica\n",
        "def h(x, w, b):\n",
        "  ans = np.dot(x, w) + b\n",
        "  return ans\n",
        "\n",
        "#HUBER LOSS from: \n",
        "#https://towardsdatascience.com/understanding-the-3-most-common-loss-functions-for-machine-learning-regression-23e0ef3e14d3\n",
        "#Función Error, recibe una matriz x, un array y, delta y una función que indica el tipo de error (MSE,MAE,HUB). Finalmente retorna el error.\n",
        "def Error(x, y, w, b, delta=1.5, fun=\"MSE\"):\n",
        "  res = 0\n",
        "  y_pred = h(x,w,b)\n",
        "  num = np.shape(x)[0]\n",
        "  if fun == \"MSE\":\n",
        "    error = y - y_pred\n",
        "    res = np.sum(error ** 2)/(2.0 * num)\n",
        "  elif fun == \"MAE\":\n",
        "    error = (y - y_pred)\n",
        "    res = np.sum(np.abs(error))/(2.0 * num)\n",
        "  elif fun == \"HUB\":\n",
        "    error_mse = ((y - y_pred) ** 2)/(2.0 * num)\n",
        "    error_mae = delta * (np.abs(y - y_pred) - 0.5 * delta)\n",
        "    res = np.where(np.abs(y-y_pred) <= delta, error_mse, error_mae)\n",
        "    res = np.sum(res)\n",
        "  return res\n",
        "\n",
        "# For the implementation of backpropagation formulas, we got them from:\n",
        "# https://www.analyticsvidhya.com/blog/2019/08/detailed-guide-7-loss-functions-machine-learning-python-code/\n",
        "#Función derivada, recibe una matriz x, un array y, delta y una función que indica el tipo de error (MSE,MAE,HUB). Finalmente retorna la derivada\n",
        "def derivada(x, y, w, b, delta, fun = \"MSE\"):\n",
        "  m = np.shape(x)[0]\n",
        "  pred = h(x,w,b)\n",
        "  error = y - pred \n",
        "  djb = b\n",
        "  djw = w \n",
        "  if fun == \"MSE\":\n",
        "    djw  = (1.0 / m) * -np.dot(x.T, error)\n",
        "    djb  = (1.0 / m) * -np.sum(error)\n",
        "  elif fun == \"MAE\":\n",
        "    djw =  -np.dot(x.T , error / abs(error)) / m\n",
        "    djb =  - np.sum(error / abs(error) ) / m\n",
        "  elif fun ==  \"HUB\":\n",
        "    # peso de mse + peso de mae\n",
        "    djw  = np.where(error <= delta, -np.dot(x.T, error) ,  delta * -np.dot(x.T , error / abs(error)) )\n",
        "    djb  = np.sum( np.where(error <= delta,  -error, -error / abs(-error)) )\n",
        "  else:\n",
        "    assert True, \" Invalid Error function name given\"\n",
        "\n",
        "  return djb, djw\n",
        "  \n",
        "#Función update, recibe una matriz x, un array y, la penalización y un hiperparámetro alfa. Finalmente retorna w y el bias actualizado.\n",
        "def update(w, b, dw, db, alfa):\n",
        "    w = w - alfa * dw\n",
        "    b = b - alfa * db \n",
        "    return b, w"
      ],
      "metadata": {
        "id": "w3dJP7Gtvpp0"
      },
      "execution_count": null,
      "outputs": []
    },
    {
      "cell_type": "code",
      "source": [
        "#Función split, splitea la data \n",
        "def split(x_q,y_q, q = 0.7):\n",
        "  X_train, X_rest, y_train, y_rest = train_test_split(x_q, y_q , test_size=1-q, random_state=0)\n",
        "  X_val, X_test, y_val, y_test = train_test_split(X_rest, y_rest , test_size=0.5, random_state=0)\n",
        "  return X_train, y_train, X_test, y_test, X_val, y_val\n",
        "\n",
        "#Función norm, normaliza la data\n",
        "def norm(x,y,x_val,y_val,x_test, y_test):\n",
        "  scaler_class_x = preprocessing.MinMaxScaler()\n",
        "  scaler_class_y = preprocessing.MinMaxScaler()\n",
        "  x_norm = scaler_class_x.fit_transform(x)\n",
        "  y_norm = scaler_class_y.fit_transform(y)\n",
        "  x_val_norm = scaler_class_x.transform(x_val)\n",
        "  y_val_norm = scaler_class_y.transform(y_val)\n",
        "  x_test_norm = scaler_class_x.transform(x_test)\n",
        "  y_test_norm = scaler_class_y.transform(y_test)\n",
        "  return x_norm , y_norm, x_val_norm, y_val_norm, x_test_norm, y_test_norm\n",
        "\n",
        "#Función get_data\n",
        "def get_data(X,Y,batch):\n",
        "  N = Y.shape[0]\n",
        "  val_lis = []\n",
        "  x_batch_list=np.array([])\n",
        "  y_batch_list=np.array([])\n",
        "  random_list = random.sample(range(N), batch)\n",
        "  x_batch_list = np.reshape(x_batch_list, (np.shape(x_batch_list)[0], np.shape(X)[1]))\n",
        "  y_batch_list = np.reshape(y_batch_list, (np.shape(y_batch_list)[0], 1))\n",
        "  for i in range(batch):\n",
        "    x_batch_list = np.r_[x_batch_list, [X[random_list[i],:]]]\n",
        "    y_batch_list = np.r_[y_batch_list, [Y[random_list[i],:]]] \n",
        "  return x_batch_list, y_batch_list"
      ],
      "metadata": {
        "id": "68RlUR-Xx27j"
      },
      "execution_count": null,
      "outputs": []
    },
    {
      "cell_type": "code",
      "source": [
        "#Función train, entrena el modelo dado.\n",
        "def train(x, y, x_val, y_val, n_epochs, alfa, fun_type):\n",
        "  np.random.seed(42)\n",
        "  delta = 1.5\n",
        "\n",
        "  m  = np.shape(x)[1:]\n",
        "  w = np.random.randn(*m,1,)\n",
        "  b = np.random.rand()\n",
        "  loss = []\n",
        "  loss_val = []\n",
        "  current_fun  = fun_type\n",
        "  for i in  tqdm(range(n_epochs), desc = f'Training with ({fun_type}) Progress Bar'):\n",
        "    x_train, y_train = (x,y)\n",
        "    if fun_type == \"HUB\":\n",
        "      rand_idx = random.randint(0, np.shape(x)[0] - 1) \n",
        "      x_train = np.reshape( x[rand_idx] , (*m,1) ).T\n",
        "      y_train = y[rand_idx].reshape(1,1)\n",
        "      current_fun = \"MSE\" if (y_train - h(x_train,w,b)  <= delta) else \"MAE\"\n",
        "\n",
        "    db, dw = derivada(x_train, y_train, w, b, delta, current_fun)\n",
        "    b, w = update(w, b, dw, db, alfa)\n",
        "    L = Error(x_train, y_train, w, b, delta, fun= current_fun)\n",
        "    L_val = Error(x_val, y_val, w, b, delta, fun= current_fun)\n",
        "    loss.append(L)\n",
        "    loss_val.append(L_val)\n",
        "  return b, w, loss, loss_val"
      ],
      "metadata": {
        "id": "1t0WDAQvvpgz"
      },
      "execution_count": null,
      "outputs": []
    },
    {
      "cell_type": "markdown",
      "source": [
        "## Testing"
      ],
      "metadata": {
        "id": "PoNSNEI9vcbU"
      }
    },
    {
      "cell_type": "code",
      "source": [
        "def Plot_Loss(epochs, loss, loss_val, name = \"Loss plot\"):\n",
        "  plt.title(name)\n",
        "  plt.plot(epochs, loss, loss_val)\n",
        "  plt.legend([\"Loss Train\",\"Loss Validation\"])\n",
        "  plt.xlabel(\"Epochs\")\n",
        "  plt.ylabel(\"Error\")\n",
        "\n",
        "def Plot_fig(fig, epochs, loss, loss_val):\n",
        "  plt.plot(epochs, loss, loss_val, figure=fig)\n",
        "\n",
        "\n",
        "def DeterminationCoefficient (x, y, w, b):\n",
        "  SSR =  np.sum((y- h(x,w,b))**2)\n",
        "  SST =   np.sum((y-y.mean())**2)\n",
        "  return 1 - (SSR/SST)\n",
        "\n",
        "def tester(data, instructions, Score = True, fun = \"MAE\" ):\n",
        "  x_train, y_train, x_val, y_val, x_test, y_test = data\n",
        "  i = 0\n",
        "  fig = plt.figure()\n",
        "  plt.title(f\"Loss plot with {fun}\")\n",
        "  plt.xlabel(\"Epochs\")\n",
        "  plt.ylabel(\"Error\")\n",
        "  lst_legend = []\n",
        "\n",
        "  for instruction in  instructions:\n",
        "    n_epoch, alpha, graphs = instruction\n",
        "    b, w, loss, loss_val = train(x_train, y_train, x_val, y_val, n_epoch, alpha, fun)\n",
        "    if(Score):\n",
        "      y_pred = h(x_test, w, b)\n",
        "      print(f'Mean square error with value: {mean_squared_error(y_test, y_pred)}')\n",
        "      print(f'Coefficient of determination with value: {DeterminationCoefficient(x_test,y_test,w,b)}' )\n",
        "      \n",
        "    if(graphs):\n",
        "      epochs  = [i for i in range(n_epoch)]\n",
        "      # Plot_Loss(epochs, loss, loss_val, name = f\"Loss Plot with {funct}\")\\\n",
        "      Plot_fig(fig, epochs, loss, loss_val)\n",
        "      lst_legend.append(f\"Loss Training {alpha}\")\n",
        "      lst_legend.append(f\"Loss Validation {alpha}\")\n",
        "  plt.legend(lst_legend)"
      ],
      "metadata": {
        "id": "s0KL1nmlvdqP"
      },
      "execution_count": null,
      "outputs": []
    },
    {
      "cell_type": "code",
      "source": [
        "x_train, y_train, x_test, y_test, x_val, y_val = split(x,y)\n",
        "x_norm, y_norm, x_val_norm, y_val_norm, x_test_norm, y_test_norm  = norm(x_train,y_train, x_val, y_val, x_test, y_test)\n",
        "data = (x_norm, y_norm, x_val_norm, y_val_norm, x_test_norm, y_val_norm)"
      ],
      "metadata": {
        "id": "eqMPsLMV6tgC"
      },
      "execution_count": null,
      "outputs": []
    },
    {
      "cell_type": "code",
      "source": [
        "n_epoch = 1500\n",
        "fun = \"MSE\"\n",
        "ins = [  \n",
        "        (n_epoch, 0.1, True),\n",
        "        (n_epoch, 0.01, True),\n",
        "        (n_epoch, 0.001, True)\n",
        "      ] \n",
        "\n",
        "tester(data, ins, fun  = fun)"
      ],
      "metadata": {
        "colab": {
          "base_uri": "https://localhost:8080/",
          "height": 451
        },
        "id": "JUb_zXMP4wgQ",
        "outputId": "33562feb-4a53-4374-cd40-8e3f7a216238"
      },
      "execution_count": null,
      "outputs": [
        {
          "output_type": "stream",
          "name": "stderr",
          "text": [
            "Training with (MSE) Progress Bar: 100%|██████████| 1500/1500 [00:00<00:00, 9395.17it/s] \n"
          ]
        },
        {
          "output_type": "stream",
          "name": "stdout",
          "text": [
            "Mean square error with value: 0.030522802200733157\n",
            "Coefficient of determination with value: -0.06339784455024833\n"
          ]
        },
        {
          "output_type": "stream",
          "name": "stderr",
          "text": [
            "Training with (MSE) Progress Bar: 100%|██████████| 1500/1500 [00:00<00:00, 10975.98it/s]\n"
          ]
        },
        {
          "output_type": "stream",
          "name": "stdout",
          "text": [
            "Mean square error with value: 0.06722192611928317\n",
            "Coefficient of determination with value: -1.341975381934124\n"
          ]
        },
        {
          "output_type": "stream",
          "name": "stderr",
          "text": [
            "Training with (MSE) Progress Bar: 100%|██████████| 1500/1500 [00:00<00:00, 9217.97it/s] \n"
          ]
        },
        {
          "output_type": "stream",
          "name": "stdout",
          "text": [
            "Mean square error with value: 0.2431468966583789\n",
            "Coefficient of determination with value: -7.471105769226897\n"
          ]
        },
        {
          "output_type": "display_data",
          "data": {
            "text/plain": [
              "<Figure size 432x288 with 1 Axes>"
            ],
            "image/png": "[encoded data removed]"
          },
          "metadata": {
            "needs_background": "light"
          }
        }
      ]
    },
    {
      "cell_type": "code",
      "source": [
        "b, w, loss, loss_val = train(x_norm, y_norm, x_val_norm, y_val_norm, n_epoch, 0.1, \"MSE\")\n",
        "\n",
        "y_pred = h(x_test_norm, w, b) \n",
        "\n",
        "\n",
        "print(f\"\\n RMSE of :{mean_squared_error(y_test, y_pred)}\")"
      ],
      "metadata": {
        "colab": {
          "base_uri": "https://localhost:8080/"
        },
        "id": "YyC71tgY4lTt",
        "outputId": "eccb1c06-8d03-4967-8542-42d14b46e3c1"
      },
      "execution_count": null,
      "outputs": [
        {
          "output_type": "stream",
          "name": "stderr",
          "text": [
            "Training with (MSE) Progress Bar: 100%|██████████| 1500/1500 [00:00<00:00, 25927.58it/s]"
          ]
        },
        {
          "output_type": "stream",
          "name": "stdout",
          "text": [
            "\n",
            " RMSE of :301.57360014804374\n"
          ]
        },
        {
          "output_type": "stream",
          "name": "stderr",
          "text": [
            "\n"
          ]
        }
      ]
    },
    {
      "cell_type": "code",
      "source": [
        "fun = \"MAE\"\n",
        "ins = [  \n",
        "        # (\"MSE\", 15000, 0.001, False),\n",
        "        (n_epoch, 0.1, True),\n",
        "        (n_epoch, 0.01, True),\n",
        "        (n_epoch, 0.001, True)\n",
        "      ] \n",
        "\n",
        "tester(data, ins, fun  = fun)"
      ],
      "metadata": {
        "colab": {
          "base_uri": "https://localhost:8080/",
          "height": 399
        },
        "id": "b4hHAZid5E6G",
        "outputId": "944d4d8e-0292-4c25-d0dc-3ab42a7a6df3"
      },
      "execution_count": null,
      "outputs": [
        {
          "output_type": "stream",
          "name": "stderr",
          "text": [
            "Training with (MAE) Progress Bar: 100%|██████████| 1500/1500 [00:00<00:00, 20822.98it/s]\n"
          ]
        },
        {
          "output_type": "stream",
          "name": "stdout",
          "text": [
            "Coefficient of determination with value: -2.106830182225445\n"
          ]
        },
        {
          "output_type": "stream",
          "name": "stderr",
          "text": [
            "Training with (MAE) Progress Bar: 100%|██████████| 1500/1500 [00:00<00:00, 23354.19it/s]\n"
          ]
        },
        {
          "output_type": "stream",
          "name": "stdout",
          "text": [
            "Coefficient of determination with value: -0.11271979450461078\n"
          ]
        },
        {
          "output_type": "stream",
          "name": "stderr",
          "text": [
            "Training with (MAE) Progress Bar: 100%|██████████| 1500/1500 [00:00<00:00, 22594.81it/s]\n"
          ]
        },
        {
          "output_type": "stream",
          "name": "stdout",
          "text": [
            "Coefficient of determination with value: -6.940661372057374\n"
          ]
        },
        {
          "output_type": "display_data",
          "data": {
            "text/plain": [
              "<Figure size 432x288 with 1 Axes>"
            ],
            "image/png": "[encoded data removed]"
          },
          "metadata": {
            "needs_background": "light"
          }
        }
      ]
    },
    {
      "cell_type": "code",
      "source": [
        "fun = \"HUB\"\n",
        "ins = [  \n",
        "        # (\"MSE\", 15000, 0.001, False),\n",
        "        (n_epoch, 0.1, True),\n",
        "        (n_epoch, 0.01, True),\n",
        "        (n_epoch, 0.001, True)\n",
        "      ] \n",
        "\n",
        "tester(data, ins, fun  = fun)"
      ],
      "metadata": {
        "colab": {
          "base_uri": "https://localhost:8080/",
          "height": 399
        },
        "id": "1ZjkQAgrzg_6",
        "outputId": "979930be-27c9-4018-8172-36f45be68847"
      },
      "execution_count": null,
      "outputs": [
        {
          "output_type": "stream",
          "name": "stderr",
          "text": [
            "Training with (HUB) Progress Bar: 100%|██████████| 1500/1500 [00:00<00:00, 17655.37it/s]\n"
          ]
        },
        {
          "output_type": "stream",
          "name": "stdout",
          "text": [
            "Coefficient of determination with value: -0.08426946899818355\n"
          ]
        },
        {
          "output_type": "stream",
          "name": "stderr",
          "text": [
            "Training with (HUB) Progress Bar: 100%|██████████| 1500/1500 [00:00<00:00, 20118.17it/s]\n"
          ]
        },
        {
          "output_type": "stream",
          "name": "stdout",
          "text": [
            "Coefficient of determination with value: -1.3172598386685666\n"
          ]
        },
        {
          "output_type": "stream",
          "name": "stderr",
          "text": [
            "Training with (HUB) Progress Bar: 100%|██████████| 1500/1500 [00:00<00:00, 16012.30it/s]\n"
          ]
        },
        {
          "output_type": "stream",
          "name": "stdout",
          "text": [
            "Coefficient of determination with value: -7.59941539006468\n"
          ]
        },
        {
          "output_type": "display_data",
          "data": {
            "text/plain": [
              "<Figure size 432x288 with 1 Axes>"
            ],
            "image/png": "[encoded data removed]"
          },
          "metadata": {
            "needs_background": "light"
          }
        }
      ]
    },
    {
      "cell_type": "code",
      "source": [
        "\n",
        "regression = LinearRegression()\n",
        "\n",
        "model = regression.fit(x_train, y_train)\n",
        "score = model.score(x_test, y_test)\n",
        "y_pred = model.predict(x_test)\n",
        "print(model.coef_)\n",
        "print(\"The RMSE:\",mean_squared_error(y_test, y_pred))\n",
        "print(\"The R²:\",r2_score(y_test, y_pred))"
      ],
      "metadata": {
        "colab": {
          "base_uri": "https://localhost:8080/"
        },
        "id": "u-s5ZTqqpXWP",
        "outputId": "ccd338ef-077b-4b53-89b4-048c6165f428"
      },
      "execution_count": null,
      "outputs": [
        {
          "output_type": "stream",
          "name": "stdout",
          "text": [
            "[[1.933 0.169 2.003 -0.870 -0.185 0.133 -0.035 -0.275 0.539 -0.155 0.771\n",
            "  -2.647]]\n",
            "The RMSE: 290.796246935457\n",
            "The R²: -0.18871393034184036\n"
          ]
        }
      ]
    }
  ]
}